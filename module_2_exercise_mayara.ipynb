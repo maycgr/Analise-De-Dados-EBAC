{
  "nbformat": 4,
  "nbformat_minor": 0,
  "metadata": {
    "colab": {
      "provenance": [],
      "include_colab_link": true
    },
    "kernelspec": {
      "name": "python3",
      "display_name": "Python 3"
    }
  },
  "cells": [
    {
      "cell_type": "markdown",
      "metadata": {
        "id": "view-in-github",
        "colab_type": "text"
      },
      "source": [
        "<a href=\"https://colab.research.google.com/github/maycgr/Analise-De-Dados-EBAC/blob/main/module_2_exercise_mayara.ipynb\" target=\"_parent\"><img src=\"https://colab.research.google.com/assets/colab-badge.svg\" alt=\"Open In Colab\"/></a>"
      ]
    },
    {
      "cell_type": "markdown",
      "metadata": {
        "id": "KJqp9AANOCtf"
      },
      "source": [
        "<img src=\"https://raw.githubusercontent.com/andre-marcos-perez/ebac-course-utils/main/media/logo/newebac_logo_black_half.png\" alt=\"ebac-logo\">\n",
        "\n",
        "---\n",
        "\n",
        "# **Módulo** | Python: Estruturas de Dados\n",
        "Caderno de **Exercícios**<br>\n",
        "Professor [André Perez](https://www.linkedin.com/in/andremarcosperez/)\n",
        "\n",
        "---"
      ]
    },
    {
      "cell_type": "markdown",
      "metadata": {
        "id": "d9jDtUbDOE1-"
      },
      "source": [
        "# **Tópicos**\n",
        "\n",
        "<ol type=\"1\">\n",
        "  <li>Listas;</li>\n",
        "  <li>Conjuntos;</li>\n",
        "  <li>Dicionários.</li>\n",
        "</ol>"
      ]
    },
    {
      "cell_type": "markdown",
      "metadata": {
        "id": "SmoHgt-lwkpD"
      },
      "source": [
        "---"
      ]
    },
    {
      "cell_type": "markdown",
      "metadata": {
        "id": "GABI6OW8OfQ2"
      },
      "source": [
        "# **Exercícios**"
      ]
    },
    {
      "cell_type": "markdown",
      "metadata": {
        "id": "muD1vxozykSC"
      },
      "source": [
        "## 1\\. Listas"
      ]
    },
    {
      "cell_type": "markdown",
      "metadata": {
        "id": "ahrFfCuBxJKs"
      },
      "source": [
        "Criei uma lista chamada `filmes` com o nome dos 10 primeiros filmes mais bem avaliados no site no [IMDB](https://www.imdb.com/chart/top/). Imprima o resultado."
      ]
    },
    {
      "cell_type": "code",
      "metadata": {
        "id": "OgL6Hv3bzOHI",
        "colab": {
          "base_uri": "https://localhost:8080/"
        },
        "outputId": "80100faf-df89-425d-8597-b67b53acd3d3"
      },
      "source": [
        "filmes = ['1 um sonho de libertade' , '2 o poderoso chefão' , '3 batman o cavaleiro das trevas' , '4 o poderoso chefão ii' , '5 12 homens e uma sentença' , '6 a lista de schinder' , '7 o senhor dos aneis o retorno do rei' , '8 pulp fiction tempo de violencia' , '9 o senhor dos aneis a sociedade do anel' , '10 tres hoemns em conflito']\n",
        "print(filmes)"
      ],
      "execution_count": null,
      "outputs": [
        {
          "output_type": "stream",
          "name": "stdout",
          "text": [
            "['1 um sonho de libertade', '2 o poderoso chefão', '3 batman o cavaleiro das trevas', '4 o poderoso chefão ii', '5 12 homens e uma sentença', '6 a lista de schinder', '7 o senhor dos aneis o retorno do rei', '8 pulp fiction tempo de violencia', '9 o senhor dos aneis a sociedade do anel', '10 tres hoemns em conflito']\n"
          ]
        }
      ]
    },
    {
      "cell_type": "markdown",
      "metadata": {
        "id": "KI9zQRT2xa7m"
      },
      "source": [
        "Simule a movimentação do *ranking*. Utilize os métodos `insert` e `pop` para trocar a posição do primeiro e do segundo filme da lista. Imprima o resultado.\n",
        "\n"
      ]
    },
    {
      "cell_type": "code",
      "source": [
        "filmes.pop(0)\n",
        "filmes.insert(0, '1 o poderoso chefão')\n",
        "filmes.insert(1, '2 um sonho de libertade')\n",
        "print(filmes)"
      ],
      "metadata": {
        "colab": {
          "base_uri": "https://localhost:8080/"
        },
        "id": "DV3nbcW5IbSB",
        "outputId": "18763daa-a84e-422b-e4a3-7dfe0f595f5b"
      },
      "execution_count": null,
      "outputs": [
        {
          "output_type": "stream",
          "name": "stdout",
          "text": [
            "['1 o poderoso chefão', '2 um sonho de libertade', '2 o poderoso chefão', '3 batman o cavaleiro das trevas', '4 o poderoso chefão ii', '5 12 homens e uma sentença', '6 a lista de schinder', '7 o senhor dos aneis o retorno do rei', '8 pulp fiction tempo de violencia', '9 o senhor dos aneis a sociedade do anel', '10 tres hoemns em conflito']\n"
          ]
        }
      ]
    },
    {
      "cell_type": "code",
      "source": [
        "filmes.pop(2)\n",
        "print(filmes)"
      ],
      "metadata": {
        "colab": {
          "base_uri": "https://localhost:8080/"
        },
        "id": "flNzQ7O_Mylr",
        "outputId": "8b6faeb2-d73a-4f08-c2b1-d61a1d399f45"
      },
      "execution_count": null,
      "outputs": [
        {
          "output_type": "stream",
          "name": "stdout",
          "text": [
            "['1 o poderoso chefão', '2 um sonho de libertade', '3 batman o cavaleiro das trevas', '4 o poderoso chefão ii', '5 12 homens e uma sentença', '6 a lista de schinder', '7 o senhor dos aneis o retorno do rei', '8 pulp fiction tempo de violencia', '9 o senhor dos aneis a sociedade do anel', '10 tres hoemns em conflito']\n"
          ]
        }
      ]
    },
    {
      "cell_type": "markdown",
      "metadata": {
        "id": "zMN1Q3jdwoJm"
      },
      "source": [
        "---"
      ]
    },
    {
      "cell_type": "markdown",
      "metadata": {
        "id": "lxa5L6uF0ZJE"
      },
      "source": [
        "## 2\\. Conjuntos"
      ]
    },
    {
      "cell_type": "markdown",
      "metadata": {
        "id": "9JahS2Kj0d5u"
      },
      "source": [
        "Aconteceu um erro no seu *ranking*. Simule a duplicação dos três últimos filmes da lista. Imprima o resultado."
      ]
    },
    {
      "cell_type": "code",
      "source": [
        "  filmess = [ '1 um sonho de liberdade' , '2 o poderoso chefão' , '3 batman o cavaleiro das trevas' , '4 o poderoso chefão ii' , '5 12 homens e uma sentença' , '6 a lista de schinder' , '7 o senhor dos aneis o retorno do rei' , '7 o senhor dos aneis o retorno do rei' , '8 pulp fiction tempo de violencia' , '8 pulp fiction tempo de violencia' , '9 o senhor dos aneis sociedade do anel', '9 o senhor dos aneis sociedade do anel' , '10 tres homens em conflito' , '10 tres homens em conflito']\n",
        "  print(filmess)"
      ],
      "metadata": {
        "colab": {
          "base_uri": "https://localhost:8080/"
        },
        "id": "EA59qHn5NuTz",
        "outputId": "122976dc-ff35-4f7d-c3fb-59252a38f6ec"
      },
      "execution_count": null,
      "outputs": [
        {
          "output_type": "stream",
          "name": "stdout",
          "text": [
            "['1 um sonho de liberdade', '2 o poderoso chefão', '3 batman o cavaleiro das trevas', '4 o poderoso chefão ii', '5 12 homens e uma sentença', '6 a lista de schinder', '7 o senhor dos aneis o retorno do rei', '7 o senhor dos aneis o retorno do rei', '8 pulp fiction tempo de violencia', '8 pulp fiction tempo de violencia', '9 o senhor dos aneis sociedade do anel', '9 o senhor dos aneis sociedade do anel', '10 tres homens em conflito', '10 tres homens em conflito']\n"
          ]
        }
      ]
    },
    {
      "cell_type": "markdown",
      "metadata": {
        "id": "suxTfCJB6ZiX"
      },
      "source": [
        "Utiliza a conversão `set` e `list` para remover os valores duplicados. Imprima o resultado."
      ]
    },
    {
      "cell_type": "code",
      "metadata": {
        "id": "ZvUGN-0n6joM",
        "colab": {
          "base_uri": "https://localhost:8080/"
        },
        "outputId": "78ed3a32-ef78-4409-de31-7a98efce7f25"
      },
      "source": [
        "print(set(list(filmess)))"
      ],
      "execution_count": null,
      "outputs": [
        {
          "output_type": "stream",
          "name": "stdout",
          "text": [
            "{'5 12 homens e uma sentença', '1 um sonho de liberdade', '3 batman o cavaleiro das trevas', '10 tres homens em conflito', '7 o senhor dos aneis o retorno do rei', '2 o poderoso chefão', '6 a lista de schinder', '9 o senhor dos aneis sociedade do anel', '4 o poderoso chefão ii', '8 pulp fiction tempo de violencia'}\n"
          ]
        }
      ]
    },
    {
      "cell_type": "markdown",
      "metadata": {
        "id": "ShkK35eQ6pAM"
      },
      "source": [
        "---"
      ]
    },
    {
      "cell_type": "markdown",
      "metadata": {
        "id": "EL_FzmxL6rTv"
      },
      "source": [
        "## 3\\. Dicionários"
      ]
    },
    {
      "cell_type": "markdown",
      "metadata": {
        "id": "i8l0gFqRCpfT"
      },
      "source": [
        "Repita os exercícios da parte 1 (listas). Os elementos da lista `filmes` devem ser dicionários no seguinte formato: `{'nome': <nome-do-filme>, 'ano': <ano do filme>, 'sinopse': <sinopse do filme>}`."
      ]
    },
    {
      "cell_type": "code",
      "source": [
        "um_sonho_liberdade = {\"nome\" : \"um sonho de libertade\", \"ano\" : 1994, \"sinopse\" : \"conta a histiria de vice-presidente de um banco em portland\" }\n",
        "poderoso_chefao = {\"nome\" : \"o poderos chefão\", \"ano\" : 1972, \"sinopse\" : \"conta a historia de uma familia que tenta se manter no poder de uma america pos guerra\"}\n",
        "batman_o_cavaleiro = {\"nome\" : \"batman o cavaleiro das trevas\", \"ano\" : 2008, \"sinose\" : \"coringa ganha forca e decide instaaurar o caos  na cidade e cabe ao batman deter o vilao\"}\n",
        "poderoso_chefao_ii = {\"nome\" : \"o poderoso chefão ii\", \"ano\" : 1974, \"sinopse\" : \"apos a mafia local matar sua familia o iovem Vito tenta ganhar a vida para manter esposa e filhos \"}\n",
        "homens_uma_sentenca = {\"nome\" : \"12 homens e uma sentenca\", \"ano\" : 1957, \"sinopse\" : \"12 jurados julgam um reu acusado de matar o pai, 11 deles acreditam que ele é culpado e 1 deles tentar convencer eles a investigar mais o caso\"}\n",
        "a_lista_schinder = {\"nome\" : \"a lista de schinder\", \"ano\" : 1993, \"sinoplse\" : \"um alemao salva a vida de mais de mil judeus em meio ao exterminio nasistas\"}\n",
        "senhor_aneis_rei = {\"nome\" : \"o senhor dos aneis o retorno do rei\", \"ano\" : 2003, \"sinose\" : \"o contronto final entre as forças do bem e do mal que lutam pelo controle do futro da terra media se aproximam\"}\n",
        "pulp_fiction = {'nome' : 'pulp fiction tempo de vingança', 'ano' : 1994, 'sinopse' : 'assassino que trabalha para mafia se apaixona pela mulher do chefe quando é convidado a acompanha-la, um boxeador descumpre sua promessa de perder a luta e um casal tenta um assalto que rapidamente sai do controle'}\n",
        "senhor_aneis_sociedade = {'nome' : 'senhor dos aneis a sociedade do anel', 'ano' : 2001, 'sinopse' : 'um hobbit recebe de presente de seu tio em anel magico e maligno que precisa ser destruido antes que cai nas mãos do mal'}\n",
        "tres_homens_conflito = {'nome' : 'tres homens em conflito', 'ano' : 1966, 'sinopse' : 'nos estados unidos, durante a guerra secessão, um pistoleiro misterioso tentar trabalhar em conjunto com um bandido e um caçador de recompensas para encontrar um tesouro perdido'}"
      ],
      "metadata": {
        "id": "uwJnSkvNtosn"
      },
      "execution_count": 1,
      "outputs": []
    }
  ]
}